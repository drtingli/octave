{
 "cells": [
  {
   "cell_type": "code",
   "execution_count": 4,
   "metadata": {},
   "outputs": [],
   "source": [
    "# Validation the PPS POS for IRCT WF.\n",
    "# Author: Ting Li\n",
    "\n",
    "# NOTE: Octave_kernal does not support 'import' python modules. Consider using 'Oct2py' if needed.\n",
    "\n",
    "#import ipywidgets as widgets\n",
    "#import os\n",
    "\n",
    "#v=input(\"enter value:\") # The Octave terminal input method"
   ]
  },
  {
   "cell_type": "markdown",
   "metadata": {},
   "source": [
    "# Input the initial PPS position from IEC POS to Matrix\n",
    "<br>**INPUT**: change the values as input"
   ]
  },
  {
   "cell_type": "code",
   "execution_count": 4,
   "metadata": {},
   "outputs": [
    {
     "name": "stdout",
     "output_type": "stream",
     "text": [
      "init =\n",
      "\n",
      "    0.86603   -0.50000   -0.00087    4.84029\n",
      "    0.50000    0.86602    0.00151   -9.28363\n",
      "    0.00000   -0.00175    1.00000  -19.05000\n",
      "    0.00000    0.00000    0.00000    1.00000\n",
      "\n"
     ]
    }
   ],
   "source": [
    "init=ieCtotransform(-0.1, 0, 30, -0.45, -10.46, -19.05)"
   ]
  },
  {
   "cell_type": "markdown",
   "metadata": {},
   "source": [
    "# Convert bony CV from IEC POS to Matrix\n",
    "<br>**INPUT**: change the values as input"
   ]
  },
  {
   "cell_type": "code",
   "execution_count": 5,
   "metadata": {},
   "outputs": [
    {
     "name": "stdout",
     "output_type": "stream",
     "text": [
      "bony =\n",
      "\n",
      "   0.99996   0.00873   0.00000  -0.50776\n",
      "  -0.00873   0.99996   0.00000   1.40448\n",
      "   0.00000   0.00000   1.00000   0.00000\n",
      "   0.00000   0.00000   0.00000   1.00000\n",
      "\n"
     ]
    }
   ],
   "source": [
    "bony=ieCtotransform(0,0,-0.5,-0.52,1.4,0)"
   ]
  },
  {
   "cell_type": "markdown",
   "metadata": {},
   "source": [
    "# Compute IEC POS by applying the input bony CV on the initial POS."
   ]
  },
  {
   "cell_type": "code",
   "execution_count": 6,
   "metadata": {},
   "outputs": [
    {
     "name": "stdout",
     "output_type": "stream",
     "text": [
      "bi =\n",
      "\n",
      "    0.87036   -0.49242   -0.00086    4.25133\n",
      "    0.49242    0.87035    0.00152   -7.92103\n",
      "    0.00000   -0.00175    1.00000  -19.05000\n",
      "    0.00000    0.00000    0.00000    1.00000\n",
      "\n",
      "The IEC POS after applying bony CV:\n",
      "pitch = -0.10000\n",
      "roll = -0\n",
      "rot =  29.500\n",
      "x = -0.20033\n",
      "y = -8.9876\n",
      "z = -19.050\n"
     ]
    }
   ],
   "source": [
    "bi=bony*init\n",
    "disp(\"The IEC POS after applying bony CV:\")\n",
    "[pitch,roll,rot,x,y,z]=iecPosition(bi)"
   ]
  },
  {
   "cell_type": "markdown",
   "metadata": {},
   "source": [
    "# Enter the ST CV from IEC POS to Matrix\n",
    "<br>**INPUT**: change the values as input "
   ]
  },
  {
   "cell_type": "code",
   "execution_count": 7,
   "metadata": {},
   "outputs": [
    {
     "name": "stdout",
     "output_type": "stream",
     "text": [
      "softTissueM =\n",
      "\n",
      "   1.00000   0.00000   0.00000  -0.67000\n",
      "   0.00000   1.00000   0.00000  -0.42000\n",
      "   0.00000   0.00000   1.00000   0.00000\n",
      "   0.00000   0.00000   0.00000   1.00000\n",
      "\n"
     ]
    }
   ],
   "source": [
    "softTissueM=ieCtotransform(0,0,0, -0.67, -0.42, 0.0)"
   ]
  },
  {
   "cell_type": "markdown",
   "metadata": {},
   "source": [
    "# Apply ST CV to table POS (corrected by Bony CV)\n",
    "<br>**RESULT**: the output is the expected PPS POS."
   ]
  },
  {
   "cell_type": "code",
   "execution_count": 8,
   "metadata": {},
   "outputs": [
    {
     "name": "stdout",
     "output_type": "stream",
     "text": [
      "stCvPos =\n",
      "\n",
      "    0.87036   -0.49242   -0.00086    3.58133\n",
      "    0.49242    0.87035    0.00152   -8.34103\n",
      "    0.00000   -0.00175    1.00000  -19.05000\n",
      "    0.00000    0.00000    0.00000    1.00000\n",
      "\n",
      "pitch2 = -0.10000\n",
      "roll2 = -0\n",
      "rot2 =  29.500\n",
      "x2 = -0.99029\n",
      "y2 = -9.0232\n",
      "z2 = -19.050\n"
     ]
    }
   ],
   "source": [
    "stCvPos = softTissueM * bi\n",
    "[pitch2, roll2, rot2, x2, y2, z2]=iecPosition(stCvPos)"
   ]
  },
  {
   "cell_type": "code",
   "execution_count": null,
   "metadata": {},
   "outputs": [],
   "source": []
  }
 ],
 "metadata": {
  "kernelspec": {
   "display_name": "Octave",
   "language": "octave",
   "name": "octave"
  },
  "language_info": {
   "file_extension": ".m",
   "help_links": [
    {
     "text": "GNU Octave",
     "url": "https://www.gnu.org/software/octave/support.html"
    },
    {
     "text": "Octave Kernel",
     "url": "https://github.com/Calysto/octave_kernel"
    },
    {
     "text": "MetaKernel Magics",
     "url": "https://metakernel.readthedocs.io/en/latest/source/README.html"
    }
   ],
   "mimetype": "text/x-octave",
   "name": "octave",
   "version": "5.1.0"
  }
 },
 "nbformat": 4,
 "nbformat_minor": 4
}
